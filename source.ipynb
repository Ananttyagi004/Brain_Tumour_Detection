{
 "cells": [
  {
   "cell_type": "code",
   "execution_count": 1,
   "metadata": {},
   "outputs": [],
   "source": [
    "# Filtering the war\n",
    "import warnings\n",
    "warnings.filterwarnings('ignore')"
   ]
  },
  {
   "cell_type": "code",
   "execution_count": 2,
   "metadata": {},
   "outputs": [],
   "source": [
    "#importing dependencies\n",
    "import numpy as np\n",
    "import matplotlib.pyplot as plt\n",
    "import os\n",
    "import math\n",
    "import shutil\n",
    "import glob"
   ]
  },
  {
   "cell_type": "code",
   "execution_count": 3,
   "metadata": {},
   "outputs": [],
   "source": [
    "#count the number of images in each set 0---> YES 1-->NO\n",
    "ROOT_DIR=\"D:\\Internship Code Clause\\Task1 Brain Tumour Detection\\Dataset\"\n",
    "\n",
    "number_of_images={}\n",
    "for dir in os.listdir(ROOT_DIR):\n",
    "    number_of_images[dir]=len(os.listdir(os.path.join(ROOT_DIR,dir)))"
   ]
  },
  {
   "cell_type": "code",
   "execution_count": 4,
   "metadata": {},
   "outputs": [
    {
     "data": {
      "text/plain": [
       "dict_items([('Brain Tumor', 2433), ('Healthy', 2087)])"
      ]
     },
     "execution_count": 4,
     "metadata": {},
     "output_type": "execute_result"
    }
   ],
   "source": [
    "number_of_images.items()"
   ]
  },
  {
   "cell_type": "code",
   "execution_count": 5,
   "metadata": {},
   "outputs": [],
   "source": [
    "# we will split the data such that 70% train data and 15% validataion and 15% test data"
   ]
  },
  {
   "cell_type": "code",
   "execution_count": 6,
   "metadata": {},
   "outputs": [],
   "source": [
    "# Function to create the train,test,validation sets.\n",
    "def foldercreator(path,split):\n",
    "    if not os.path.exists(\"./\"+path):\n",
    "        os.mkdir(\"./\"+path)\n",
    "        for dir in os.listdir(ROOT_DIR):\n",
    "            os.makedirs(\"./\"+path+\"./\"+dir)\n",
    "            for img in np.random.choice(a=os.listdir(os.path.join(ROOT_DIR,dir)),size=(math.floor(split*number_of_images[dir])-5),replace=False):\n",
    "                o=os.path.join(ROOT_DIR,dir,img)# path\n",
    "                D=os.path.join(\"./\"+path,dir)\n",
    "                shutil.copy(o,D)\n",
    "                os.remove(o)\n",
    "\n",
    "    else:\n",
    "        print(\"The folder exsist\")"
   ]
  },
  {
   "cell_type": "code",
   "execution_count": 7,
   "metadata": {},
   "outputs": [],
   "source": [
    "foldercreator(\"train\",0.7)\n",
    "foldercreator(\"test\",0.15)\n",
    "foldercreator(\"validation\",0.15)"
   ]
  },
  {
   "cell_type": "code",
   "execution_count": 10,
   "metadata": {},
   "outputs": [],
   "source": [
    "#Model Building \n",
    "from keras.layers import Conv2D,MaxPool2D,Dropout,Flatten,Dense,BatchNormalization,GlobalAvgPool2D\n",
    "from keras.models import Sequential\n",
    "from keras_preprocessing.image import load_img,img_to_array"
   ]
  },
  {
   "cell_type": "code",
   "execution_count": 11,
   "metadata": {},
   "outputs": [
    {
     "name": "stdout",
     "output_type": "stream",
     "text": [
      "Model: \"sequential\"\n",
      "_________________________________________________________________\n",
      " Layer (type)                Output Shape              Param #   \n",
      "=================================================================\n",
      " conv2d (Conv2D)             (None, 222, 222, 16)      448       \n",
      "                                                                 \n",
      " conv2d_1 (Conv2D)           (None, 220, 220, 36)      5220      \n",
      "                                                                 \n",
      " max_pooling2d (MaxPooling2D  (None, 110, 110, 36)     0         \n",
      " )                                                               \n",
      "                                                                 \n",
      " conv2d_2 (Conv2D)           (None, 108, 108, 64)      20800     \n",
      "                                                                 \n",
      " max_pooling2d_1 (MaxPooling  (None, 54, 54, 64)       0         \n",
      " 2D)                                                             \n",
      "                                                                 \n",
      " conv2d_3 (Conv2D)           (None, 52, 52, 128)       73856     \n",
      "                                                                 \n",
      " max_pooling2d_2 (MaxPooling  (None, 26, 26, 128)      0         \n",
      " 2D)                                                             \n",
      "                                                                 \n",
      " dropout (Dropout)           (None, 26, 26, 128)       0         \n",
      "                                                                 \n",
      " flatten (Flatten)           (None, 86528)             0         \n",
      "                                                                 \n",
      " dense (Dense)               (None, 64)                5537856   \n",
      "                                                                 \n",
      " dropout_1 (Dropout)         (None, 64)                0         \n",
      "                                                                 \n",
      " dense_1 (Dense)             (None, 1)                 65        \n",
      "                                                                 \n",
      "=================================================================\n",
      "Total params: 5,638,245\n",
      "Trainable params: 5,638,245\n",
      "Non-trainable params: 0\n",
      "_________________________________________________________________\n"
     ]
    }
   ],
   "source": [
    "#CNN MODEL\n",
    "model=Sequential()\n",
    "model.add(Conv2D(filters=16,kernel_size=(3,3),activation='relu',input_shape=(224,224,3)))\n",
    "model.add(Conv2D(filters=36, kernel_size=(3,3),activation='relu'))\n",
    "model.add(MaxPool2D(pool_size=(2,2)))\n",
    "model.add(Conv2D(filters=64, kernel_size=(3,3),activation='relu'))\n",
    "model.add(MaxPool2D(pool_size=(2,2)))\n",
    "model.add(Conv2D(filters=128, kernel_size=(3,3),activation='relu'))\n",
    "model.add(MaxPool2D(pool_size=(2,2)))\n",
    "model.add(Dropout(rate=0.25))\n",
    "model.add(Flatten())\n",
    "model.add(Dense(units=64,activation='relu'))\n",
    "model.add(Dropout(rate=0.25))\n",
    "model.add(Dense(units=1,activation='sigmoid'))\n",
    "model.summary()\n"
   ]
  },
  {
   "cell_type": "code",
   "execution_count": 13,
   "metadata": {},
   "outputs": [],
   "source": [
    "import keras.losses"
   ]
  },
  {
   "cell_type": "code",
   "execution_count": 14,
   "metadata": {},
   "outputs": [],
   "source": [
    "model.compile(optimizer='adam',loss=keras.losses.binary_crossentropy, metrics=['accuracy'])"
   ]
  },
  {
   "cell_type": "code",
   "execution_count": 17,
   "metadata": {},
   "outputs": [],
   "source": [
    "#Preparing our data using data generator\n",
    "from keras.preprocessing.image import  ImageDataGenerator"
   ]
  },
  {
   "cell_type": "code",
   "execution_count": 20,
   "metadata": {},
   "outputs": [],
   "source": [
    "def preprocessingImages(path):\n",
    " \"\"\"\n",
    " input : Path\n",
    " output :Preprocessed images\n",
    " \n",
    " \"\"\"\n",
    " image_data=ImageDataGenerator(zoom_range=0.2,shear_range=0.2,rescale=1/255, horizontal_flip=True)\n",
    " image=image_data.flow_from_directory(directory=path,target_size=(224,224),batch_size=32,class_mode='binary')\n",
    "\n",
    " return image"
   ]
  },
  {
   "cell_type": "code",
   "execution_count": 31,
   "metadata": {},
   "outputs": [
    {
     "name": "stdout",
     "output_type": "stream",
     "text": [
      "Found 3153 images belonging to 2 classes.\n"
     ]
    }
   ],
   "source": [
    "path='train'\n",
    "train_data=preprocessingImages(path)"
   ]
  },
  {
   "cell_type": "code",
   "execution_count": 26,
   "metadata": {},
   "outputs": [],
   "source": [
    "def preprocessingImages_validate(path):\n",
    " \"\"\"\n",
    " input : Path\n",
    " output :Preprocessed images\n",
    " \n",
    " \"\"\"\n",
    " image_data=ImageDataGenerator(rescale=1/255)\n",
    " image=image_data.flow_from_directory(directory=path,target_size=(224,224),batch_size=32,class_mode='binary')\n",
    "\n",
    " return image"
   ]
  },
  {
   "cell_type": "code",
   "execution_count": 27,
   "metadata": {},
   "outputs": [
    {
     "name": "stdout",
     "output_type": "stream",
     "text": [
      "Found 667 images belonging to 2 classes.\n"
     ]
    }
   ],
   "source": [
    "test_path='test'\n",
    "test_data=preprocessingImages_validate(test_path)\n"
   ]
  },
  {
   "cell_type": "code",
   "execution_count": 28,
   "metadata": {},
   "outputs": [
    {
     "name": "stdout",
     "output_type": "stream",
     "text": [
      "Found 667 images belonging to 2 classes.\n"
     ]
    }
   ],
   "source": [
    "validate_path='validation'\n",
    "validation_data=preprocessingImages_validate(validate_path)"
   ]
  },
  {
   "cell_type": "code",
   "execution_count": 35,
   "metadata": {},
   "outputs": [],
   "source": [
    "#Early Stopping and model checkpoint\n",
    "from keras.callbacks import ModelCheckpoint,EarlyStopping\n",
    "#early stopping\n",
    "es=EarlyStopping(monitor='val_accuracy',min_delta=0.01, patience=15,verbose=1, mode='auto')\n",
    "#Model Checkpoint\n",
    "mc=ModelCheckpoint(monitor='val_accuracy',filepath=\"./bestmodel.h5\", verbose=1,save_best_only=True,mode='auto')\n",
    "\n",
    "cd=[es,mc]"
   ]
  },
  {
   "cell_type": "code",
   "execution_count": 36,
   "metadata": {},
   "outputs": [
    {
     "name": "stdout",
     "output_type": "stream",
     "text": [
      "Epoch 1/50\n",
      "8/8 [==============================] - ETA: 0s - loss: 0.4509 - accuracy: 0.8164\n",
      "Epoch 1: val_accuracy improved from -inf to 0.80664, saving model to .\\bestmodel.h5\n",
      "8/8 [==============================] - 16s 2s/step - loss: 0.4509 - accuracy: 0.8164 - val_loss: 0.4295 - val_accuracy: 0.8066\n",
      "Epoch 2/50\n",
      "8/8 [==============================] - ETA: 0s - loss: 0.4313 - accuracy: 0.8008\n",
      "Epoch 2: val_accuracy did not improve from 0.80664\n",
      "8/8 [==============================] - 17s 2s/step - loss: 0.4313 - accuracy: 0.8008 - val_loss: 0.4502 - val_accuracy: 0.7891\n",
      "Epoch 3/50\n",
      "8/8 [==============================] - ETA: 0s - loss: 0.3587 - accuracy: 0.8516\n",
      "Epoch 3: val_accuracy did not improve from 0.80664\n",
      "8/8 [==============================] - 18s 2s/step - loss: 0.3587 - accuracy: 0.8516 - val_loss: 0.4657 - val_accuracy: 0.7812\n",
      "Epoch 4/50\n",
      "8/8 [==============================] - ETA: 0s - loss: 0.3976 - accuracy: 0.8320\n",
      "Epoch 4: val_accuracy improved from 0.80664 to 0.83398, saving model to .\\bestmodel.h5\n",
      "8/8 [==============================] - 18s 2s/step - loss: 0.3976 - accuracy: 0.8320 - val_loss: 0.3940 - val_accuracy: 0.8340\n",
      "Epoch 5/50\n",
      "8/8 [==============================] - ETA: 0s - loss: 0.4121 - accuracy: 0.8164\n",
      "Epoch 5: val_accuracy improved from 0.83398 to 0.85547, saving model to .\\bestmodel.h5\n",
      "8/8 [==============================] - 18s 2s/step - loss: 0.4121 - accuracy: 0.8164 - val_loss: 0.3387 - val_accuracy: 0.8555\n",
      "Epoch 6/50\n",
      "8/8 [==============================] - ETA: 0s - loss: 0.4198 - accuracy: 0.8398\n",
      "Epoch 6: val_accuracy did not improve from 0.85547\n",
      "8/8 [==============================] - 20s 3s/step - loss: 0.4198 - accuracy: 0.8398 - val_loss: 0.4192 - val_accuracy: 0.7949\n",
      "Epoch 7/50\n",
      "8/8 [==============================] - ETA: 0s - loss: 0.3678 - accuracy: 0.8359\n",
      "Epoch 7: val_accuracy did not improve from 0.85547\n",
      "8/8 [==============================] - 18s 2s/step - loss: 0.3678 - accuracy: 0.8359 - val_loss: 0.5280 - val_accuracy: 0.7480\n",
      "Epoch 8/50\n",
      "8/8 [==============================] - ETA: 0s - loss: 0.3847 - accuracy: 0.8477\n",
      "Epoch 8: val_accuracy did not improve from 0.85547\n",
      "8/8 [==============================] - 18s 2s/step - loss: 0.3847 - accuracy: 0.8477 - val_loss: 0.4017 - val_accuracy: 0.8066\n",
      "Epoch 9/50\n",
      "8/8 [==============================] - ETA: 0s - loss: 0.3929 - accuracy: 0.8242\n",
      "Epoch 9: val_accuracy did not improve from 0.85547\n",
      "8/8 [==============================] - 20s 3s/step - loss: 0.3929 - accuracy: 0.8242 - val_loss: 0.4955 - val_accuracy: 0.7598\n",
      "Epoch 10/50\n",
      "8/8 [==============================] - ETA: 0s - loss: 0.4012 - accuracy: 0.8174\n",
      "Epoch 10: val_accuracy did not improve from 0.85547\n",
      "8/8 [==============================] - 18s 2s/step - loss: 0.4012 - accuracy: 0.8174 - val_loss: 0.3587 - val_accuracy: 0.8398\n",
      "Epoch 11/50\n",
      "8/8 [==============================] - ETA: 0s - loss: 0.4542 - accuracy: 0.7773\n",
      "Epoch 11: val_accuracy did not improve from 0.85547\n",
      "8/8 [==============================] - 18s 2s/step - loss: 0.4542 - accuracy: 0.7773 - val_loss: 0.3907 - val_accuracy: 0.8438\n",
      "Epoch 12/50\n",
      "8/8 [==============================] - ETA: 0s - loss: 0.4017 - accuracy: 0.8050\n",
      "Epoch 12: val_accuracy did not improve from 0.85547\n",
      "8/8 [==============================] - 17s 2s/step - loss: 0.4017 - accuracy: 0.8050 - val_loss: 0.3648 - val_accuracy: 0.8184\n",
      "Epoch 13/50\n",
      "8/8 [==============================] - ETA: 0s - loss: 0.3969 - accuracy: 0.8320\n",
      "Epoch 13: val_accuracy did not improve from 0.85547\n",
      "8/8 [==============================] - 18s 2s/step - loss: 0.3969 - accuracy: 0.8320 - val_loss: 0.4232 - val_accuracy: 0.7910\n",
      "Epoch 14/50\n",
      "8/8 [==============================] - ETA: 0s - loss: 0.4354 - accuracy: 0.7852\n",
      "Epoch 14: val_accuracy did not improve from 0.85547\n",
      "8/8 [==============================] - 18s 2s/step - loss: 0.4354 - accuracy: 0.7852 - val_loss: 0.3706 - val_accuracy: 0.8223\n",
      "Epoch 15/50\n",
      "8/8 [==============================] - ETA: 0s - loss: 0.3646 - accuracy: 0.8672\n",
      "Epoch 15: val_accuracy did not improve from 0.85547\n",
      "8/8 [==============================] - 17s 2s/step - loss: 0.3646 - accuracy: 0.8672 - val_loss: 0.3960 - val_accuracy: 0.7949\n",
      "Epoch 16/50\n",
      "8/8 [==============================] - ETA: 0s - loss: 0.4004 - accuracy: 0.7969\n",
      "Epoch 16: val_accuracy did not improve from 0.85547\n",
      "8/8 [==============================] - 18s 2s/step - loss: 0.4004 - accuracy: 0.7969 - val_loss: 0.3998 - val_accuracy: 0.8145\n",
      "Epoch 17/50\n",
      "8/8 [==============================] - ETA: 0s - loss: 0.4206 - accuracy: 0.7969\n",
      "Epoch 17: val_accuracy did not improve from 0.85547\n",
      "8/8 [==============================] - 18s 2s/step - loss: 0.4206 - accuracy: 0.7969 - val_loss: 0.3748 - val_accuracy: 0.8320\n",
      "Epoch 18/50\n",
      "8/8 [==============================] - ETA: 0s - loss: 0.3370 - accuracy: 0.8594\n",
      "Epoch 18: val_accuracy did not improve from 0.85547\n",
      "8/8 [==============================] - 18s 2s/step - loss: 0.3370 - accuracy: 0.8594 - val_loss: 0.3430 - val_accuracy: 0.8398\n",
      "Epoch 19/50\n",
      "8/8 [==============================] - ETA: 0s - loss: 0.3791 - accuracy: 0.8340\n",
      "Epoch 19: val_accuracy did not improve from 0.85547\n",
      "8/8 [==============================] - 18s 2s/step - loss: 0.3791 - accuracy: 0.8340 - val_loss: 0.3338 - val_accuracy: 0.8398\n",
      "Epoch 20/50\n",
      "8/8 [==============================] - ETA: 0s - loss: 0.3397 - accuracy: 0.8382\n",
      "Epoch 20: val_accuracy did not improve from 0.85547\n",
      "8/8 [==============================] - 17s 2s/step - loss: 0.3397 - accuracy: 0.8382 - val_loss: 0.3495 - val_accuracy: 0.8379\n",
      "Epoch 20: early stopping\n"
     ]
    }
   ],
   "source": [
    "#Model Training\n",
    "hs=model.fit_generator(generator=train_data,steps_per_epoch=8, epochs=50,verbose=1,validation_data=validation_data,validation_steps=16,\n",
    "                       callbacks=cd)"
   ]
  },
  {
   "cell_type": "code",
   "execution_count": null,
   "metadata": {},
   "outputs": [],
   "source": []
  }
 ],
 "metadata": {
  "kernelspec": {
   "display_name": "Python 3",
   "language": "python",
   "name": "python3"
  },
  "language_info": {
   "codemirror_mode": {
    "name": "ipython",
    "version": 3
   },
   "file_extension": ".py",
   "mimetype": "text/x-python",
   "name": "python",
   "nbconvert_exporter": "python",
   "pygments_lexer": "ipython3",
   "version": "3.10.8"
  },
  "orig_nbformat": 4
 },
 "nbformat": 4,
 "nbformat_minor": 2
}
